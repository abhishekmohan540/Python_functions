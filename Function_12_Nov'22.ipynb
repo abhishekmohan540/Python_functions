{
 "cells": [
  {
   "cell_type": "code",
   "execution_count": 1,
   "id": "0f8efbf5",
   "metadata": {},
   "outputs": [],
   "source": [
    "def test(a,b):\n",
    "    return a+b"
   ]
  },
  {
   "cell_type": "code",
   "execution_count": 2,
   "id": "adabb957",
   "metadata": {},
   "outputs": [
    {
     "data": {
      "text/plain": [
       "30"
      ]
     },
     "execution_count": 2,
     "metadata": {},
     "output_type": "execute_result"
    }
   ],
   "source": [
    "test(10,20)"
   ]
  },
  {
   "cell_type": "code",
   "execution_count": 3,
   "id": "1ca02d69",
   "metadata": {},
   "outputs": [
    {
     "data": {
      "text/plain": [
       "'AbhishekMohan'"
      ]
     },
     "execution_count": 3,
     "metadata": {},
     "output_type": "execute_result"
    }
   ],
   "source": [
    "test(\"Abhishek\", \"Mohan\")"
   ]
  },
  {
   "cell_type": "code",
   "execution_count": 4,
   "id": "41b648c0",
   "metadata": {},
   "outputs": [],
   "source": [
    "def test2(*args):                  # \"*\" allows you to enter any number of inputs\n",
    "    return args"
   ]
  },
  {
   "cell_type": "code",
   "execution_count": 5,
   "id": "44e1d237",
   "metadata": {},
   "outputs": [
    {
     "data": {
      "text/plain": [
       "(1, 2, 3, 'abhi', [1, 2, 3])"
      ]
     },
     "execution_count": 5,
     "metadata": {},
     "output_type": "execute_result"
    }
   ],
   "source": [
    "test2(1,2,3,\"abhi\",[1,2,3])"
   ]
  },
  {
   "cell_type": "code",
   "execution_count": 7,
   "id": "950f97e7",
   "metadata": {},
   "outputs": [],
   "source": [
    "def test3(*args):\n",
    "    return list(args)        # to convert tuple into a list"
   ]
  },
  {
   "cell_type": "code",
   "execution_count": 8,
   "id": "74b03145",
   "metadata": {},
   "outputs": [
    {
     "data": {
      "text/plain": [
       "[1, 2, 3, 'abhi']"
      ]
     },
     "execution_count": 8,
     "metadata": {},
     "output_type": "execute_result"
    }
   ],
   "source": [
    "test3(1,2,3,\"abhi\")"
   ]
  },
  {
   "cell_type": "code",
   "execution_count": 9,
   "id": "0121fe42",
   "metadata": {},
   "outputs": [],
   "source": [
    "def test4(*args):           # to convert the result output into a list from tuple\n",
    "    l = []\n",
    "    for i in args:\n",
    "        l.append(i)\n",
    "    return l    "
   ]
  },
  {
   "cell_type": "code",
   "execution_count": 10,
   "id": "c5b6e6b4",
   "metadata": {},
   "outputs": [
    {
     "data": {
      "text/plain": [
       "[1, 2, 3, 'abhi', 'mohan']"
      ]
     },
     "execution_count": 10,
     "metadata": {},
     "output_type": "execute_result"
    }
   ],
   "source": [
    "test4(1,2,3,\"abhi\",\"mohan\")"
   ]
  },
  {
   "cell_type": "code",
   "execution_count": 11,
   "id": "db202e35",
   "metadata": {},
   "outputs": [],
   "source": [
    "def test5(*abhi):\n",
    "    return abhi"
   ]
  },
  {
   "cell_type": "code",
   "execution_count": 12,
   "id": "3f9ee87f",
   "metadata": {},
   "outputs": [
    {
     "data": {
      "text/plain": [
       "(12, 13, 14)"
      ]
     },
     "execution_count": 12,
     "metadata": {},
     "output_type": "execute_result"
    }
   ],
   "source": [
    "test5(12,13,14)"
   ]
  },
  {
   "cell_type": "code",
   "execution_count": 13,
   "id": "60b63b97",
   "metadata": {},
   "outputs": [
    {
     "data": {
      "text/plain": [
       "('mohan', 12, 13)"
      ]
     },
     "execution_count": 13,
     "metadata": {},
     "output_type": "execute_result"
    }
   ],
   "source": [
    "test5(\"mohan\",12,13)"
   ]
  },
  {
   "cell_type": "code",
   "execution_count": 14,
   "id": "c25e07ea",
   "metadata": {},
   "outputs": [],
   "source": [
    "def test6(*abhi):\n",
    "    return list(abhi)"
   ]
  },
  {
   "cell_type": "code",
   "execution_count": 15,
   "id": "4afa6790",
   "metadata": {},
   "outputs": [
    {
     "data": {
      "text/plain": [
       "[14, 15, 13, 'abhi']"
      ]
     },
     "execution_count": 15,
     "metadata": {},
     "output_type": "execute_result"
    }
   ],
   "source": [
    "test6(14,15,13,\"abhi\")"
   ]
  },
  {
   "cell_type": "code",
   "execution_count": 16,
   "id": "c89706af",
   "metadata": {},
   "outputs": [],
   "source": [
    "# Function to enter key-value pair n number of times"
   ]
  },
  {
   "cell_type": "code",
   "execution_count": 18,
   "id": "e19a09ee",
   "metadata": {},
   "outputs": [],
   "source": [
    "def test7(**kwargs):                       # ** for key-value pairs\n",
    "    return kwargs"
   ]
  },
  {
   "cell_type": "code",
   "execution_count": 19,
   "id": "dadcf9fc",
   "metadata": {},
   "outputs": [
    {
     "data": {
      "text/plain": [
       "{'a': 5, 'b': 2, 'c': 12, 'abhi': 100}"
      ]
     },
     "execution_count": 19,
     "metadata": {},
     "output_type": "execute_result"
    }
   ],
   "source": [
    "test7(a=5,b=2,c=12,abhi=100)"
   ]
  },
  {
   "cell_type": "code",
   "execution_count": 21,
   "id": "5aac5275",
   "metadata": {},
   "outputs": [
    {
     "data": {
      "text/plain": [
       "{'abhi': 'mohan'}"
      ]
     },
     "execution_count": 21,
     "metadata": {},
     "output_type": "execute_result"
    }
   ],
   "source": [
    "test7(abhi=\"mohan\")"
   ]
  },
  {
   "cell_type": "code",
   "execution_count": 22,
   "id": "7ddc2072",
   "metadata": {},
   "outputs": [
    {
     "data": {
      "text/plain": [
       "dict"
      ]
     },
     "execution_count": 22,
     "metadata": {},
     "output_type": "execute_result"
    }
   ],
   "source": [
    "type(test7())"
   ]
  },
  {
   "cell_type": "code",
   "execution_count": 23,
   "id": "748d48d0",
   "metadata": {},
   "outputs": [],
   "source": [
    "# ** gives dictionary as output and * gives tuple as output"
   ]
  },
  {
   "cell_type": "code",
   "execution_count": 24,
   "id": "d89074e2",
   "metadata": {},
   "outputs": [],
   "source": [
    "def test8(a):\n",
    "    return a\n",
    "def test9(b):\n",
    "    return b\n",
    "def test10(func):\n",
    "    return func(\"abhi\")"
   ]
  },
  {
   "cell_type": "code",
   "execution_count": 25,
   "id": "4fd1e0e4",
   "metadata": {},
   "outputs": [
    {
     "data": {
      "text/plain": [
       "'abhi'"
      ]
     },
     "execution_count": 25,
     "metadata": {},
     "output_type": "execute_result"
    }
   ],
   "source": [
    "test10(test8)"
   ]
  },
  {
   "cell_type": "code",
   "execution_count": 26,
   "id": "4dd21dd8",
   "metadata": {},
   "outputs": [
    {
     "data": {
      "text/plain": [
       "'abhi'"
      ]
     },
     "execution_count": 26,
     "metadata": {},
     "output_type": "execute_result"
    }
   ],
   "source": [
    "test10(test9)"
   ]
  },
  {
   "cell_type": "code",
   "execution_count": 27,
   "id": "4a7dadce",
   "metadata": {},
   "outputs": [],
   "source": [
    "def test8(a):\n",
    "    return a\n",
    "def test9():\n",
    "    return \"mohan\"\n",
    "def test10(func):\n",
    "    return func(\"abhi\")"
   ]
  },
  {
   "cell_type": "code",
   "execution_count": 28,
   "id": "1c4031b9",
   "metadata": {},
   "outputs": [
    {
     "data": {
      "text/plain": [
       "'abhi'"
      ]
     },
     "execution_count": 28,
     "metadata": {},
     "output_type": "execute_result"
    }
   ],
   "source": [
    "test10(test8)"
   ]
  },
  {
   "cell_type": "code",
   "execution_count": 29,
   "id": "c0452034",
   "metadata": {},
   "outputs": [
    {
     "ename": "TypeError",
     "evalue": "test9() takes 0 positional arguments but 1 was given",
     "output_type": "error",
     "traceback": [
      "\u001b[1;31m---------------------------------------------------------------------------\u001b[0m",
      "\u001b[1;31mTypeError\u001b[0m                                 Traceback (most recent call last)",
      "Input \u001b[1;32mIn [29]\u001b[0m, in \u001b[0;36m<cell line: 1>\u001b[1;34m()\u001b[0m\n\u001b[1;32m----> 1\u001b[0m \u001b[43mtest10\u001b[49m\u001b[43m(\u001b[49m\u001b[43mtest9\u001b[49m\u001b[43m)\u001b[49m\n",
      "Input \u001b[1;32mIn [27]\u001b[0m, in \u001b[0;36mtest10\u001b[1;34m(func)\u001b[0m\n\u001b[0;32m      5\u001b[0m \u001b[38;5;28;01mdef\u001b[39;00m \u001b[38;5;21mtest10\u001b[39m(func):\n\u001b[1;32m----> 6\u001b[0m     \u001b[38;5;28;01mreturn\u001b[39;00m \u001b[43mfunc\u001b[49m\u001b[43m(\u001b[49m\u001b[38;5;124;43m\"\u001b[39;49m\u001b[38;5;124;43mabhi\u001b[39;49m\u001b[38;5;124;43m\"\u001b[39;49m\u001b[43m)\u001b[49m\n",
      "\u001b[1;31mTypeError\u001b[0m: test9() takes 0 positional arguments but 1 was given"
     ]
    }
   ],
   "source": [
    "test10(test9)"
   ]
  },
  {
   "cell_type": "code",
   "execution_count": 36,
   "id": "71571081",
   "metadata": {},
   "outputs": [],
   "source": [
    "def test8(a):\n",
    "    return a\n",
    "def test9():\n",
    "    return \"mohan\"\n",
    "def test10(func):\n",
    "    return func()"
   ]
  },
  {
   "cell_type": "code",
   "execution_count": 37,
   "id": "c3ffe510",
   "metadata": {},
   "outputs": [
    {
     "data": {
      "text/plain": [
       "'mohan'"
      ]
     },
     "execution_count": 37,
     "metadata": {},
     "output_type": "execute_result"
    }
   ],
   "source": [
    "test10(test9)"
   ]
  },
  {
   "cell_type": "code",
   "execution_count": 35,
   "id": "b0539cac",
   "metadata": {},
   "outputs": [
    {
     "data": {
      "text/plain": [
       "'mohan'"
      ]
     },
     "execution_count": 35,
     "metadata": {},
     "output_type": "execute_result"
    }
   ],
   "source": [
    "test9()"
   ]
  },
  {
   "cell_type": "code",
   "execution_count": 42,
   "id": "5a2cc5fd",
   "metadata": {},
   "outputs": [],
   "source": [
    "def test8(a):\n",
    "    return a\n",
    "def test9(*args):             # * will allow to take 0 to n inputs \n",
    "    return args\n",
    "def test10(func):\n",
    "    return func(\"abhi\")"
   ]
  },
  {
   "cell_type": "code",
   "execution_count": 43,
   "id": "63e04483",
   "metadata": {},
   "outputs": [
    {
     "data": {
      "text/plain": [
       "'abhi'"
      ]
     },
     "execution_count": 43,
     "metadata": {},
     "output_type": "execute_result"
    }
   ],
   "source": [
    "test10(test8)"
   ]
  },
  {
   "cell_type": "code",
   "execution_count": 44,
   "id": "0c2e8008",
   "metadata": {},
   "outputs": [
    {
     "data": {
      "text/plain": [
       "('abhi',)"
      ]
     },
     "execution_count": 44,
     "metadata": {},
     "output_type": "execute_result"
    }
   ],
   "source": [
    "test10(test9)"
   ]
  },
  {
   "cell_type": "code",
   "execution_count": 45,
   "id": "133b35d9",
   "metadata": {},
   "outputs": [],
   "source": [
    "def test11():\n",
    "    print(\"Test11\")\n",
    "    def test12():\n",
    "        print(\"test12\")\n",
    "    def test13():\n",
    "        print(\"test13\")"
   ]
  },
  {
   "cell_type": "code",
   "execution_count": 46,
   "id": "e00689ad",
   "metadata": {},
   "outputs": [
    {
     "name": "stdout",
     "output_type": "stream",
     "text": [
      "Test11\n"
     ]
    }
   ],
   "source": [
    "test11()"
   ]
  },
  {
   "cell_type": "code",
   "execution_count": 47,
   "id": "373e7475",
   "metadata": {},
   "outputs": [
    {
     "ename": "NameError",
     "evalue": "name 'test12' is not defined",
     "output_type": "error",
     "traceback": [
      "\u001b[1;31m---------------------------------------------------------------------------\u001b[0m",
      "\u001b[1;31mNameError\u001b[0m                                 Traceback (most recent call last)",
      "Input \u001b[1;32mIn [47]\u001b[0m, in \u001b[0;36m<cell line: 1>\u001b[1;34m()\u001b[0m\n\u001b[1;32m----> 1\u001b[0m \u001b[43mtest12\u001b[49m()\n",
      "\u001b[1;31mNameError\u001b[0m: name 'test12' is not defined"
     ]
    }
   ],
   "source": [
    "test12()"
   ]
  },
  {
   "cell_type": "code",
   "execution_count": 48,
   "id": "330f5470",
   "metadata": {},
   "outputs": [
    {
     "ename": "NameError",
     "evalue": "name 'test13' is not defined",
     "output_type": "error",
     "traceback": [
      "\u001b[1;31m---------------------------------------------------------------------------\u001b[0m",
      "\u001b[1;31mNameError\u001b[0m                                 Traceback (most recent call last)",
      "Input \u001b[1;32mIn [48]\u001b[0m, in \u001b[0;36m<cell line: 1>\u001b[1;34m()\u001b[0m\n\u001b[1;32m----> 1\u001b[0m \u001b[43mtest13\u001b[49m()\n",
      "\u001b[1;31mNameError\u001b[0m: name 'test13' is not defined"
     ]
    }
   ],
   "source": [
    "test13()"
   ]
  },
  {
   "cell_type": "code",
   "execution_count": 49,
   "id": "c501d8ab",
   "metadata": {},
   "outputs": [],
   "source": [
    "def test11(a):\n",
    "    print(\"Test11\")\n",
    "    def test12():\n",
    "        print(\"test12\")\n",
    "    def test13():\n",
    "        print(\"test13\")\n",
    "        \n",
    "    if a == \"abhi\":                         # This is one of the way to call functions inside a function\n",
    "        return test12()\n",
    "    elif a == \"mohan\":\n",
    "        return test13()\n",
    "    "
   ]
  },
  {
   "cell_type": "code",
   "execution_count": 50,
   "id": "d318be2d",
   "metadata": {},
   "outputs": [
    {
     "name": "stdout",
     "output_type": "stream",
     "text": [
      "Test11\n"
     ]
    }
   ],
   "source": [
    "test11(123)"
   ]
  },
  {
   "cell_type": "code",
   "execution_count": 51,
   "id": "9e59c30f",
   "metadata": {},
   "outputs": [
    {
     "name": "stdout",
     "output_type": "stream",
     "text": [
      "Test11\n"
     ]
    }
   ],
   "source": [
    "test11(\"xyz\")"
   ]
  },
  {
   "cell_type": "code",
   "execution_count": 52,
   "id": "5d60b390",
   "metadata": {},
   "outputs": [
    {
     "name": "stdout",
     "output_type": "stream",
     "text": [
      "Test11\n",
      "test12\n"
     ]
    }
   ],
   "source": [
    "test11(\"abhi\")"
   ]
  },
  {
   "cell_type": "code",
   "execution_count": 53,
   "id": "03faacdf",
   "metadata": {},
   "outputs": [
    {
     "name": "stdout",
     "output_type": "stream",
     "text": [
      "Test11\n",
      "test13\n"
     ]
    }
   ],
   "source": [
    "test11(\"mohan\")"
   ]
  },
  {
   "cell_type": "code",
   "execution_count": 30,
   "id": "fd663cc4",
   "metadata": {},
   "outputs": [],
   "source": [
    "def test14(func):\n",
    "    def test15():\n",
    "        print(\"I am inside test15 and this will behave as a decorator for any function I am going to call\")\n",
    "        func()\n",
    "    return test15()    "
   ]
  },
  {
   "cell_type": "code",
   "execution_count": 31,
   "id": "686b1f0d",
   "metadata": {},
   "outputs": [],
   "source": [
    "def test16():\n",
    "    print(\"I am inside test16\")"
   ]
  },
  {
   "cell_type": "code",
   "execution_count": 18,
   "id": "5d7233ec",
   "metadata": {},
   "outputs": [
    {
     "name": "stdout",
     "output_type": "stream",
     "text": [
      "I am inside test16\n"
     ]
    }
   ],
   "source": [
    "test16()"
   ]
  },
  {
   "cell_type": "code",
   "execution_count": 19,
   "id": "ccaa0c04",
   "metadata": {},
   "outputs": [
    {
     "name": "stdout",
     "output_type": "stream",
     "text": [
      "I am inside test15 and this will behave as a decorator for any function I am going to call\n",
      "I am inside test16\n"
     ]
    }
   ],
   "source": [
    "test14(test16)"
   ]
  },
  {
   "cell_type": "code",
   "execution_count": 20,
   "id": "84016e0e",
   "metadata": {},
   "outputs": [],
   "source": [
    "#Another way of doing the same."
   ]
  },
  {
   "cell_type": "code",
   "execution_count": 39,
   "id": "fe827130",
   "metadata": {},
   "outputs": [
    {
     "name": "stdout",
     "output_type": "stream",
     "text": [
      "I am inside test15 and this will behave as a decorator for any function I am going to call\n",
      "This is test17\n"
     ]
    }
   ],
   "source": [
    "@test14                            # Decorator\n",
    "def test17():\n",
    "    print(\"This is test17\")"
   ]
  },
  {
   "cell_type": "code",
   "execution_count": 41,
   "id": "0bf7a3a0",
   "metadata": {},
   "outputs": [],
   "source": [
    "import os\n",
    "def test18(func):\n",
    "    def test19():\n",
    "        func()\n",
    "        print(os.getcwd())\n",
    "    return test19()    "
   ]
  },
  {
   "cell_type": "code",
   "execution_count": 42,
   "id": "73a4c244",
   "metadata": {},
   "outputs": [
    {
     "name": "stdout",
     "output_type": "stream",
     "text": [
      "I am inside test20\n",
      "C:\\Users\\DELL\n"
     ]
    }
   ],
   "source": [
    "@test18\n",
    "def test20():\n",
    "    print(\"I am inside test20\")"
   ]
  },
  {
   "cell_type": "code",
   "execution_count": 52,
   "id": "aa56061f",
   "metadata": {},
   "outputs": [],
   "source": [
    "# Write a program to find the execution time of a function"
   ]
  },
  {
   "cell_type": "code",
   "execution_count": 13,
   "id": "d2347774",
   "metadata": {},
   "outputs": [],
   "source": [
    "import time"
   ]
  },
  {
   "cell_type": "code",
   "execution_count": 54,
   "id": "71461395",
   "metadata": {},
   "outputs": [
    {
     "name": "stdout",
     "output_type": "stream",
     "text": [
      "Hello\n",
      "0.0\n"
     ]
    }
   ],
   "source": [
    "start = time.time()\n",
    "print(\"Hello\")\n",
    "end = time.time()\n",
    "print(end-start)"
   ]
  },
  {
   "cell_type": "code",
   "execution_count": 55,
   "id": "ceba74e6",
   "metadata": {},
   "outputs": [
    {
     "data": {
      "text/plain": [
       "1668403617.0094924"
      ]
     },
     "execution_count": 55,
     "metadata": {},
     "output_type": "execute_result"
    }
   ],
   "source": [
    "time.time()       # gives present time"
   ]
  },
  {
   "cell_type": "code",
   "execution_count": 56,
   "id": "529a6090",
   "metadata": {},
   "outputs": [
    {
     "data": {
      "text/plain": [
       "1668403628.0004416"
      ]
     },
     "execution_count": 56,
     "metadata": {},
     "output_type": "execute_result"
    }
   ],
   "source": [
    "time.time()"
   ]
  },
  {
   "cell_type": "code",
   "execution_count": 61,
   "id": "f7c59c95",
   "metadata": {},
   "outputs": [
    {
     "data": {
      "text/plain": [
       "time.struct_time(tm_year=2022, tm_mon=11, tm_mday=14, tm_hour=10, tm_min=59, tm_sec=5, tm_wday=0, tm_yday=318, tm_isdst=0)"
      ]
     },
     "execution_count": 61,
     "metadata": {},
     "output_type": "execute_result"
    }
   ],
   "source": [
    "time.localtime()"
   ]
  },
  {
   "cell_type": "code",
   "execution_count": 14,
   "id": "8d77978e",
   "metadata": {},
   "outputs": [],
   "source": [
    "def test21(func):\n",
    "    def test22():\n",
    "        print(\"This will give execution time of the function\")\n",
    "        start = time.time()\n",
    "        func()\n",
    "        end = time.time()\n",
    "        print(end-start)\n",
    "    return test22()    "
   ]
  },
  {
   "cell_type": "code",
   "execution_count": 63,
   "id": "aeee02b0",
   "metadata": {},
   "outputs": [],
   "source": [
    "def test23():\n",
    "    l = [1,2,3,4,5,6]\n",
    "    l1=[]\n",
    "    for i in l:\n",
    "        if type(i)==int:\n",
    "            l1.append(i)\n",
    "    return l1       "
   ]
  },
  {
   "cell_type": "code",
   "execution_count": 64,
   "id": "6f2575b8",
   "metadata": {},
   "outputs": [
    {
     "data": {
      "text/plain": [
       "[1, 2, 3, 4, 5, 6]"
      ]
     },
     "execution_count": 64,
     "metadata": {},
     "output_type": "execute_result"
    }
   ],
   "source": [
    "test23()"
   ]
  },
  {
   "cell_type": "code",
   "execution_count": 66,
   "id": "e8855ee9",
   "metadata": {},
   "outputs": [
    {
     "name": "stdout",
     "output_type": "stream",
     "text": [
      "This will give execution time of the function\n",
      "0.0\n"
     ]
    }
   ],
   "source": [
    "@test21\n",
    "def test23():\n",
    "    l = [1,2,3,4,5,6]\n",
    "    l1=[]\n",
    "    for i in l:\n",
    "        if type(i)==int:\n",
    "            l1.append(i)\n",
    "    return l1       "
   ]
  },
  {
   "cell_type": "code",
   "execution_count": 91,
   "id": "dba9ed54",
   "metadata": {},
   "outputs": [],
   "source": [
    "def test21(func):\n",
    "    def test22():\n",
    "        print(\"This will give execution time of the function\")\n",
    "        start = time.time()\n",
    "        func()\n",
    "        print(func())           # To print the values\n",
    "        end = time.time()\n",
    "        print(end-start)\n",
    "    return test22()   "
   ]
  },
  {
   "cell_type": "code",
   "execution_count": 92,
   "id": "51f05ce7",
   "metadata": {},
   "outputs": [
    {
     "name": "stdout",
     "output_type": "stream",
     "text": [
      "This will give execution time of the function\n",
      "[1, 2, 3, 4, 5, 6]\n",
      "0.0\n"
     ]
    }
   ],
   "source": [
    "@test21\n",
    "def test23():\n",
    "    l = [1,2,3,4,5,6]\n",
    "    l1=[]\n",
    "    for i in l:\n",
    "        if type(i)==int:\n",
    "            l1.append(i)\n",
    "    return l1       "
   ]
  },
  {
   "cell_type": "code",
   "execution_count": 8,
   "id": "7dcf56e1",
   "metadata": {},
   "outputs": [],
   "source": [
    "def test24():\n",
    "    for i in range(0,31):\n",
    "        print((5*i)/5)\n",
    "    return test24     # if use return test24(), it will initaite infinite times the function\n",
    "        "
   ]
  },
  {
   "cell_type": "code",
   "execution_count": 9,
   "id": "7d19164c",
   "metadata": {},
   "outputs": [
    {
     "name": "stdout",
     "output_type": "stream",
     "text": [
      "0.0\n",
      "1.0\n",
      "2.0\n",
      "3.0\n",
      "4.0\n",
      "5.0\n",
      "6.0\n",
      "7.0\n",
      "8.0\n",
      "9.0\n",
      "10.0\n",
      "11.0\n",
      "12.0\n",
      "13.0\n",
      "14.0\n",
      "15.0\n",
      "16.0\n",
      "17.0\n",
      "18.0\n",
      "19.0\n",
      "20.0\n",
      "21.0\n",
      "22.0\n",
      "23.0\n",
      "24.0\n",
      "25.0\n",
      "26.0\n",
      "27.0\n",
      "28.0\n",
      "29.0\n",
      "30.0\n"
     ]
    },
    {
     "data": {
      "text/plain": [
       "<function __main__.test24()>"
      ]
     },
     "execution_count": 9,
     "metadata": {},
     "output_type": "execute_result"
    }
   ],
   "source": [
    "test24()"
   ]
  },
  {
   "cell_type": "code",
   "execution_count": 15,
   "id": "410b15fd",
   "metadata": {},
   "outputs": [
    {
     "name": "stdout",
     "output_type": "stream",
     "text": [
      "This will give execution time of the function\n",
      "0.0\n",
      "1.0\n",
      "2.0\n",
      "3.0\n",
      "4.0\n",
      "5.0\n",
      "6.0\n",
      "7.0\n",
      "8.0\n",
      "9.0\n",
      "10.0\n",
      "11.0\n",
      "12.0\n",
      "13.0\n",
      "14.0\n",
      "15.0\n",
      "16.0\n",
      "17.0\n",
      "18.0\n",
      "19.0\n",
      "20.0\n",
      "21.0\n",
      "22.0\n",
      "23.0\n",
      "24.0\n",
      "25.0\n",
      "26.0\n",
      "27.0\n",
      "28.0\n",
      "29.0\n",
      "30.0\n",
      "0.0009999275207519531\n"
     ]
    }
   ],
   "source": [
    "@test21\n",
    "def test24():\n",
    "    for i in range(0,31):\n",
    "        print((5*i)/5)\n",
    "    return test24"
   ]
  },
  {
   "cell_type": "code",
   "execution_count": null,
   "id": "0d21e93f",
   "metadata": {},
   "outputs": [],
   "source": []
  }
 ],
 "metadata": {
  "kernelspec": {
   "display_name": "Python 3 (ipykernel)",
   "language": "python",
   "name": "python3"
  },
  "language_info": {
   "codemirror_mode": {
    "name": "ipython",
    "version": 3
   },
   "file_extension": ".py",
   "mimetype": "text/x-python",
   "name": "python",
   "nbconvert_exporter": "python",
   "pygments_lexer": "ipython3",
   "version": "3.9.12"
  }
 },
 "nbformat": 4,
 "nbformat_minor": 5
}
