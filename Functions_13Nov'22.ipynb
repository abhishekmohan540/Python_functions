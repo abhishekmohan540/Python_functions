{
 "cells": [
  {
   "cell_type": "code",
   "execution_count": 1,
   "id": "d189f4f7-027f-4361-aee8-00e25e4b180a",
   "metadata": {},
   "outputs": [],
   "source": [
    "def test1(func):\n",
    "    def test2():\n",
    "        print(\"I am inside test2\")\n",
    "        func()\n",
    "        \n",
    "        print(\"function executed\")\n",
    "    return test2   "
   ]
  },
  {
   "cell_type": "code",
   "execution_count": 2,
   "id": "e26dc807-8588-4b48-a4f1-b15f6ecba10b",
   "metadata": {},
   "outputs": [],
   "source": [
    "@test1\n",
    "def test3():\n",
    "    print(\"this is my test3\")"
   ]
  },
  {
   "cell_type": "code",
   "execution_count": 3,
   "id": "b4c674ed-9302-4ede-9dcb-9e537151a3ae",
   "metadata": {},
   "outputs": [
    {
     "name": "stdout",
     "output_type": "stream",
     "text": [
      "I am inside test2\n",
      "this is my test3\n",
      "function executed\n"
     ]
    }
   ],
   "source": [
    "test3()"
   ]
  },
  {
   "cell_type": "code",
   "execution_count": 4,
   "id": "0e48f748-1060-470b-a7cf-36fb276e85cc",
   "metadata": {},
   "outputs": [],
   "source": [
    "def test1(func):\n",
    "    def test2():\n",
    "        print(\"I am inside test2\")\n",
    "        func()\n",
    "        print(func())\n",
    "        print(\"function executed\")\n",
    "    return test2   "
   ]
  },
  {
   "cell_type": "code",
   "execution_count": 5,
   "id": "3c1d7c76-6b2a-4a1c-b14b-7ea712e52003",
   "metadata": {},
   "outputs": [],
   "source": [
    "@test1\n",
    "def test4():\n",
    "    print(\"this is my test4\")"
   ]
  },
  {
   "cell_type": "code",
   "execution_count": 6,
   "id": "aefe72ba-5a49-4782-8bf1-7c5f2f1545e4",
   "metadata": {},
   "outputs": [
    {
     "name": "stdout",
     "output_type": "stream",
     "text": [
      "I am inside test2\n",
      "this is my test4\n",
      "this is my test4\n",
      "None\n",
      "function executed\n"
     ]
    }
   ],
   "source": [
    "test4()"
   ]
  },
  {
   "cell_type": "code",
   "execution_count": 8,
   "id": "733d798d-a565-4dd5-8156-2041065de1ff",
   "metadata": {},
   "outputs": [],
   "source": [
    "@test1\n",
    "def test5():\n",
    "    return 5+6"
   ]
  },
  {
   "cell_type": "code",
   "execution_count": 9,
   "id": "65a5c6cd-7cb8-4957-a04c-13e529e7f60d",
   "metadata": {},
   "outputs": [
    {
     "name": "stdout",
     "output_type": "stream",
     "text": [
      "I am inside test2\n",
      "11\n",
      "function executed\n"
     ]
    }
   ],
   "source": [
    "test5()"
   ]
  },
  {
   "cell_type": "code",
   "execution_count": 10,
   "id": "b6e734b3-751d-4082-b3d3-45a26fbbcf0d",
   "metadata": {},
   "outputs": [
    {
     "name": "stdout",
     "output_type": "stream",
     "text": [
      "I am inside test2\n",
      "11\n",
      "function executed\n"
     ]
    },
    {
     "data": {
      "text/plain": [
       "NoneType"
      ]
     },
     "execution_count": 10,
     "metadata": {},
     "output_type": "execute_result"
    }
   ],
   "source": [
    "type(test5())"
   ]
  },
  {
   "cell_type": "code",
   "execution_count": 12,
   "id": "34d5ab4f-e0cf-4f52-bb35-ea06882469c4",
   "metadata": {},
   "outputs": [
    {
     "name": "stdout",
     "output_type": "stream",
     "text": [
      "I am inside test2\n",
      "11\n",
      "function executed\n"
     ]
    },
    {
     "ename": "TypeError",
     "evalue": "unsupported operand type(s) for +: 'NoneType' and 'int'",
     "output_type": "error",
     "traceback": [
      "\u001b[0;31m---------------------------------------------------------------------------\u001b[0m",
      "\u001b[0;31mTypeError\u001b[0m                                 Traceback (most recent call last)",
      "Cell \u001b[0;32mIn [12], line 1\u001b[0m\n\u001b[0;32m----> 1\u001b[0m \u001b[43mtest5\u001b[49m\u001b[43m(\u001b[49m\u001b[43m)\u001b[49m\u001b[43m \u001b[49m\u001b[38;5;241;43m+\u001b[39;49m\u001b[43m \u001b[49m\u001b[38;5;241;43m10\u001b[39;49m\n",
      "\u001b[0;31mTypeError\u001b[0m: unsupported operand type(s) for +: 'NoneType' and 'int'"
     ]
    }
   ],
   "source": [
    "test5() + 10"
   ]
  },
  {
   "cell_type": "code",
   "execution_count": 13,
   "id": "4b48320d-0226-4597-a48f-39c524f18c15",
   "metadata": {},
   "outputs": [],
   "source": [
    "#So here type of test5 is NoneType even after using retun statement. \n",
    "#Inorder to fix this we will have to do some changes in base function test1"
   ]
  },
  {
   "cell_type": "code",
   "execution_count": 14,
   "id": "ad2f7c6f-81bd-4791-9b32-145d7a4bfd01",
   "metadata": {},
   "outputs": [],
   "source": [
    "def test1(func):\n",
    "    def test2():                            # wrapper function\n",
    "        print(\"I am inside test2\")\n",
    "        func()\n",
    "        print(func())\n",
    "        print(\"function executed\")\n",
    "        return func()       # changes made here\n",
    "    return test2  "
   ]
  },
  {
   "cell_type": "code",
   "execution_count": 15,
   "id": "c0501473-4344-404c-9723-55d9a6cbc8b8",
   "metadata": {},
   "outputs": [],
   "source": [
    "@test1\n",
    "def test5():\n",
    "    return 5+6"
   ]
  },
  {
   "cell_type": "code",
   "execution_count": 16,
   "id": "f3a5291b-9514-4596-92f6-9943c2bd3a8f",
   "metadata": {},
   "outputs": [
    {
     "name": "stdout",
     "output_type": "stream",
     "text": [
      "I am inside test2\n",
      "11\n",
      "function executed\n"
     ]
    },
    {
     "data": {
      "text/plain": [
       "11"
      ]
     },
     "execution_count": 16,
     "metadata": {},
     "output_type": "execute_result"
    }
   ],
   "source": [
    "test5()"
   ]
  },
  {
   "cell_type": "code",
   "execution_count": 17,
   "id": "842a8792-391a-4823-8896-aaf4b2dd3888",
   "metadata": {},
   "outputs": [
    {
     "name": "stdout",
     "output_type": "stream",
     "text": [
      "I am inside test2\n",
      "11\n",
      "function executed\n"
     ]
    },
    {
     "data": {
      "text/plain": [
       "111"
      ]
     },
     "execution_count": 17,
     "metadata": {},
     "output_type": "execute_result"
    }
   ],
   "source": [
    "test5() + 100"
   ]
  },
  {
   "cell_type": "code",
   "execution_count": 18,
   "id": "6f341b44-8c58-44df-b124-307486883f71",
   "metadata": {},
   "outputs": [],
   "source": [
    "# Now I am able to do the addition operation."
   ]
  },
  {
   "cell_type": "code",
   "execution_count": 19,
   "id": "97a47233-b124-4d93-a941-cd2181503863",
   "metadata": {},
   "outputs": [
    {
     "name": "stdout",
     "output_type": "stream",
     "text": [
      "I am inside test2\n",
      "11\n",
      "function executed\n"
     ]
    },
    {
     "data": {
      "text/plain": [
       "int"
      ]
     },
     "execution_count": 19,
     "metadata": {},
     "output_type": "execute_result"
    }
   ],
   "source": [
    "type(test5())"
   ]
  },
  {
   "cell_type": "code",
   "execution_count": 1,
   "id": "b077848e-4ba8-43d6-a7e2-3b6afafaf9f3",
   "metadata": {},
   "outputs": [],
   "source": [
    "#Another Case"
   ]
  },
  {
   "cell_type": "code",
   "execution_count": 2,
   "id": "23d233dc-98ae-4988-a60a-3f08e6dbf5e0",
   "metadata": {},
   "outputs": [],
   "source": [
    "def test1(func):\n",
    "    def test2():                            # wrapper function\n",
    "        print(\"I am inside test2\")\n",
    "        func()\n",
    "        print(func())\n",
    "        print(\"function executed\")\n",
    "        return func()       \n",
    "    return test2  "
   ]
  },
  {
   "cell_type": "code",
   "execution_count": 3,
   "id": "6e837324-c650-4f3a-b1c4-1091c5d81285",
   "metadata": {},
   "outputs": [],
   "source": [
    "def demo1(a,b):\n",
    "    return a+b\n",
    "    "
   ]
  },
  {
   "cell_type": "code",
   "execution_count": 7,
   "id": "fab4bc8b-c971-4555-8cae-d624aea04199",
   "metadata": {},
   "outputs": [
    {
     "data": {
      "text/plain": [
       "15"
      ]
     },
     "execution_count": 7,
     "metadata": {},
     "output_type": "execute_result"
    }
   ],
   "source": [
    "demo1(5,10)     # It worked without decorator"
   ]
  },
  {
   "cell_type": "code",
   "execution_count": 8,
   "id": "8fab9148-74fa-47ed-8c4d-982c566e45cc",
   "metadata": {},
   "outputs": [],
   "source": [
    "@test1\n",
    "def demo2():\n",
    "    return a+b"
   ]
  },
  {
   "cell_type": "code",
   "execution_count": 9,
   "id": "4bda39d9-640e-4242-9efd-6bf567f6ac0e",
   "metadata": {},
   "outputs": [
    {
     "ename": "TypeError",
     "evalue": "test1.<locals>.test2() takes 0 positional arguments but 2 were given",
     "output_type": "error",
     "traceback": [
      "\u001b[0;31m---------------------------------------------------------------------------\u001b[0m",
      "\u001b[0;31mTypeError\u001b[0m                                 Traceback (most recent call last)",
      "Cell \u001b[0;32mIn [9], line 1\u001b[0m\n\u001b[0;32m----> 1\u001b[0m \u001b[43mdemo2\u001b[49m\u001b[43m(\u001b[49m\u001b[38;5;241;43m5\u001b[39;49m\u001b[43m,\u001b[49m\u001b[38;5;241;43m10\u001b[39;49m\u001b[43m)\u001b[49m\n",
      "\u001b[0;31mTypeError\u001b[0m: test1.<locals>.test2() takes 0 positional arguments but 2 were given"
     ]
    }
   ],
   "source": [
    "demo2(5,10)      # Error with decorator"
   ]
  },
  {
   "cell_type": "code",
   "execution_count": 10,
   "id": "172a32ea-72b0-46a7-9c2d-456348f12f2f",
   "metadata": {},
   "outputs": [],
   "source": [
    "# To fix the issue, pass input varibale to wrapper function"
   ]
  },
  {
   "cell_type": "code",
   "execution_count": 11,
   "id": "b9d063ca-d072-4f22-8c27-3cd5233a1d19",
   "metadata": {},
   "outputs": [],
   "source": [
    "def test1(func):\n",
    "    def test2(c,d):                            # wrapper function\n",
    "        print(\"I am inside test2\")\n",
    "        func(c,d)\n",
    "        print(func(c,d))\n",
    "        print(\"function executed\")\n",
    "        return func(c,d)       \n",
    "    return test2  "
   ]
  },
  {
   "cell_type": "code",
   "execution_count": 12,
   "id": "7bdd1892-0db9-4977-80b4-a9042973d515",
   "metadata": {},
   "outputs": [],
   "source": [
    "@test1\n",
    "def demo2(a,b):\n",
    "    return a+b"
   ]
  },
  {
   "cell_type": "code",
   "execution_count": 13,
   "id": "68c05a34-ae9d-4a6a-8f03-690e0d0b88c4",
   "metadata": {},
   "outputs": [
    {
     "name": "stdout",
     "output_type": "stream",
     "text": [
      "I am inside test2\n",
      "15\n",
      "function executed\n"
     ]
    },
    {
     "data": {
      "text/plain": [
       "15"
      ]
     },
     "execution_count": 13,
     "metadata": {},
     "output_type": "execute_result"
    }
   ],
   "source": [
    "demo2(5,10)"
   ]
  },
  {
   "cell_type": "code",
   "execution_count": 14,
   "id": "50475293-f96d-4824-a15a-b481759d8514",
   "metadata": {},
   "outputs": [],
   "source": [
    "# It worked fine now."
   ]
  },
  {
   "cell_type": "code",
   "execution_count": 15,
   "id": "f0289b97-bd4c-42e6-b48a-764c8fee76ad",
   "metadata": {},
   "outputs": [],
   "source": [
    "# Inorder to handle as many inputs as entered by user, \n",
    "#it is better to use *args (args is not reserved word, can use other word as well)"
   ]
  },
  {
   "cell_type": "code",
   "execution_count": 16,
   "id": "995ea002-c3ad-451d-80b4-40da4eea0e28",
   "metadata": {},
   "outputs": [],
   "source": [
    "def test6(func):\n",
    "    def test7(*args):\n",
    "        func(*args)\n",
    "        print(func(*args))\n",
    "        print(\"this is my decorator function\")\n",
    "        return func(*args)\n",
    "    return test7\n",
    "        \n",
    "        \n",
    "        "
   ]
  },
  {
   "cell_type": "code",
   "execution_count": 17,
   "id": "a7db8aed-be20-4305-8b17-65ddf0357ad8",
   "metadata": {},
   "outputs": [],
   "source": [
    "@test6\n",
    "def test8(a,b,c):\n",
    "    return a+b+c"
   ]
  },
  {
   "cell_type": "code",
   "execution_count": 5,
   "id": "9b1deca6-3d58-4aa3-80d6-af5d3346e49f",
   "metadata": {},
   "outputs": [
    {
     "name": "stdout",
     "output_type": "stream",
     "text": [
      "abhimohanjha\n",
      "this is my decorator function\n"
     ]
    },
    {
     "data": {
      "text/plain": [
       "'abhimohanjha'"
      ]
     },
     "execution_count": 5,
     "metadata": {},
     "output_type": "execute_result"
    }
   ],
   "source": [
    "test8(\"abhi\",\"mohan\",\"jha\")"
   ]
  },
  {
   "cell_type": "code",
   "execution_count": 6,
   "id": "b39cef0e-56ba-41f6-befd-f3ca1e3ae3de",
   "metadata": {},
   "outputs": [],
   "source": [
    "\n",
    "@test6\n",
    "def test9(*args):\n",
    "    return args"
   ]
  },
  {
   "cell_type": "code",
   "execution_count": 7,
   "id": "f5db92bb-5303-4a70-b914-2d0bf400c8dc",
   "metadata": {},
   "outputs": [
    {
     "name": "stdout",
     "output_type": "stream",
     "text": [
      "('abhi', 'mohan', 'data', 100)\n",
      "this is my decorator function\n"
     ]
    },
    {
     "data": {
      "text/plain": [
       "('abhi', 'mohan', 'data', 100)"
      ]
     },
     "execution_count": 7,
     "metadata": {},
     "output_type": "execute_result"
    }
   ],
   "source": [
    "test9(\"abhi\", \"mohan\",\"data\",100)"
   ]
  },
  {
   "cell_type": "code",
   "execution_count": 18,
   "id": "ebe5878e-09c0-4b69-9a8e-68bd9c5d820a",
   "metadata": {},
   "outputs": [],
   "source": [
    "def test6(func):                  #This is the best way to write wrapper function. It can take any kind of data now.\n",
    "    def test7(*args, **kwargs):\n",
    "        func(*args,**kwargs)\n",
    "        print(func(*args,**kwargs))\n",
    "        print(\"this is my decorator function\")\n",
    "        return func(*args,**kwargs)\n",
    "    return test7"
   ]
  },
  {
   "cell_type": "code",
   "execution_count": 19,
   "id": "e202e03e-0ca1-4eb6-b637-15c0dc16dd6c",
   "metadata": {},
   "outputs": [],
   "source": [
    "@test6\n",
    "def test10(**kwargs):\n",
    "    return kwargs"
   ]
  },
  {
   "cell_type": "code",
   "execution_count": 21,
   "id": "b9658de2-34f8-4fe1-a4d0-0954e5569d9e",
   "metadata": {},
   "outputs": [
    {
     "name": "stdout",
     "output_type": "stream",
     "text": [
      "{'a': 10, 'b': 20}\n",
      "this is my decorator function\n"
     ]
    },
    {
     "data": {
      "text/plain": [
       "{'a': 10, 'b': 20}"
      ]
     },
     "execution_count": 21,
     "metadata": {},
     "output_type": "execute_result"
    }
   ],
   "source": [
    "test10(a=10,b=20)"
   ]
  },
  {
   "cell_type": "code",
   "execution_count": 22,
   "id": "a8df7171-6f8a-408d-8f97-3a6c9e3cf5a5",
   "metadata": {},
   "outputs": [
    {
     "name": "stdout",
     "output_type": "stream",
     "text": [
      "{'key1': 'abhi', 'key2': 1000}\n",
      "this is my decorator function\n"
     ]
    },
    {
     "data": {
      "text/plain": [
       "{'key1': 'abhi', 'key2': 1000}"
      ]
     },
     "execution_count": 22,
     "metadata": {},
     "output_type": "execute_result"
    }
   ],
   "source": [
    "test10(key1=\"abhi\",key2=1000)"
   ]
  },
  {
   "cell_type": "code",
   "execution_count": 13,
   "id": "10869dc9-ffe7-4827-ac8f-cc4110cb5a61",
   "metadata": {},
   "outputs": [],
   "source": [
    "# lambda function"
   ]
  },
  {
   "cell_type": "code",
   "execution_count": 14,
   "id": "dca01112-bf60-4965-bf19-0fc26b6e6f59",
   "metadata": {},
   "outputs": [],
   "source": [
    "def test11(a,b):\n",
    "    return a+b"
   ]
  },
  {
   "cell_type": "code",
   "execution_count": 21,
   "id": "1cdf2f8b-d8f4-4bb2-966a-441d9e1c226e",
   "metadata": {},
   "outputs": [
    {
     "data": {
      "text/plain": [
       "30"
      ]
     },
     "execution_count": 21,
     "metadata": {},
     "output_type": "execute_result"
    }
   ],
   "source": [
    "test11(10,20)"
   ]
  },
  {
   "cell_type": "code",
   "execution_count": 22,
   "id": "f2afcae4-93b2-47df-870f-4758abd3cd9c",
   "metadata": {},
   "outputs": [
    {
     "data": {
      "text/plain": [
       "'abhimohan'"
      ]
     },
     "execution_count": 22,
     "metadata": {},
     "output_type": "execute_result"
    }
   ],
   "source": [
    "test11(\"abhi\",\"mohan\")"
   ]
  },
  {
   "cell_type": "code",
   "execution_count": 16,
   "id": "a7e265ee-8565-49f1-8288-992c3ada77b9",
   "metadata": {},
   "outputs": [
    {
     "data": {
      "text/plain": [
       "<function __main__.test11(a, b)>"
      ]
     },
     "execution_count": 16,
     "metadata": {},
     "output_type": "execute_result"
    }
   ],
   "source": [
    "test11"
   ]
  },
  {
   "cell_type": "code",
   "execution_count": 17,
   "id": "b090e2d3-3a46-48c8-abbf-01c5a8540e55",
   "metadata": {},
   "outputs": [
    {
     "data": {
      "text/plain": [
       "<function __main__.<lambda>(a, b)>"
      ]
     },
     "execution_count": 17,
     "metadata": {},
     "output_type": "execute_result"
    }
   ],
   "source": [
    "lambda a,b : a+b"
   ]
  },
  {
   "cell_type": "code",
   "execution_count": 18,
   "id": "d40faa49-d39e-4a38-b7a2-12c778bd7f57",
   "metadata": {},
   "outputs": [],
   "source": [
    "c = lambda a,b : a+b"
   ]
  },
  {
   "cell_type": "code",
   "execution_count": 19,
   "id": "de13417d-b9c3-4ba2-861d-57606a70dcb9",
   "metadata": {},
   "outputs": [
    {
     "data": {
      "text/plain": [
       "'abhimohan'"
      ]
     },
     "execution_count": 19,
     "metadata": {},
     "output_type": "execute_result"
    }
   ],
   "source": [
    "c(\"abhi\",\"mohan\")"
   ]
  },
  {
   "cell_type": "code",
   "execution_count": 20,
   "id": "61b8d7f2-b0da-429b-abbd-5a7801a746ab",
   "metadata": {},
   "outputs": [
    {
     "data": {
      "text/plain": [
       "30"
      ]
     },
     "execution_count": 20,
     "metadata": {},
     "output_type": "execute_result"
    }
   ],
   "source": [
    "c(10,20)"
   ]
  },
  {
   "cell_type": "code",
   "execution_count": 23,
   "id": "efd78e4c-1bcd-42a1-bc94-22d9571b9d2b",
   "metadata": {},
   "outputs": [],
   "source": [
    "d = lambda *args : args"
   ]
  },
  {
   "cell_type": "code",
   "execution_count": 24,
   "id": "fa99e31e-89d6-4dbd-9731-92ba882cf069",
   "metadata": {},
   "outputs": [
    {
     "data": {
      "text/plain": [
       "(1, 2, 3, 4)"
      ]
     },
     "execution_count": 24,
     "metadata": {},
     "output_type": "execute_result"
    }
   ],
   "source": [
    "d(1,2,3,4)"
   ]
  },
  {
   "cell_type": "code",
   "execution_count": 25,
   "id": "70e5bd53-352f-4e27-9927-a09531d988c6",
   "metadata": {},
   "outputs": [],
   "source": [
    "e = lambda a,b,c,d : a+b*c/d"
   ]
  },
  {
   "cell_type": "code",
   "execution_count": 26,
   "id": "06560c18-def2-4775-a37d-e2994f839ed4",
   "metadata": {},
   "outputs": [
    {
     "data": {
      "text/plain": [
       "17.0"
      ]
     },
     "execution_count": 26,
     "metadata": {},
     "output_type": "execute_result"
    }
   ],
   "source": [
    "e(5,4,3,1)"
   ]
  },
  {
   "cell_type": "code",
   "execution_count": 27,
   "id": "84a93ed8-5931-495a-a830-7edf3ec91bd9",
   "metadata": {},
   "outputs": [],
   "source": [
    "# Map Funnction"
   ]
  },
  {
   "cell_type": "code",
   "execution_count": 23,
   "id": "606e0d63-1b5e-4674-957e-cbc0dda0a785",
   "metadata": {},
   "outputs": [],
   "source": [
    "l = [1,2,3,4,5,6,7]"
   ]
  },
  {
   "cell_type": "code",
   "execution_count": 24,
   "id": "cd82e531-1b54-405c-a8e1-dae416e9962c",
   "metadata": {},
   "outputs": [],
   "source": [
    "# Add 10 to each element"
   ]
  },
  {
   "cell_type": "code",
   "execution_count": 25,
   "id": "a337ee76-659e-4abd-907d-557e799b5bd0",
   "metadata": {},
   "outputs": [
    {
     "name": "stdout",
     "output_type": "stream",
     "text": [
      "[11, 12, 13, 14, 15, 16, 17]\n"
     ]
    }
   ],
   "source": [
    "l1=[]\n",
    "for i in l:\n",
    "    l1.append(i+10)\n",
    "print(l1)"
   ]
  },
  {
   "cell_type": "code",
   "execution_count": 26,
   "id": "7d59401c-8a7a-4a51-bb2c-9b09a80e0713",
   "metadata": {},
   "outputs": [],
   "source": [
    "def test12(a):\n",
    "    return a+10"
   ]
  },
  {
   "cell_type": "code",
   "execution_count": 27,
   "id": "e12e3d77-794e-4823-9614-c7eae0ec0e25",
   "metadata": {},
   "outputs": [
    {
     "data": {
      "text/plain": [
       "[11, 12, 13, 14, 15, 16, 17]"
      ]
     },
     "execution_count": 27,
     "metadata": {},
     "output_type": "execute_result"
    }
   ],
   "source": [
    "list(map(test12,l))        # will pass one by one each element from l to test12 as input"
   ]
  },
  {
   "cell_type": "code",
   "execution_count": 28,
   "id": "726357f4-6d22-4f0d-999e-ae9ab810451e",
   "metadata": {},
   "outputs": [],
   "source": [
    "#Method-2"
   ]
  },
  {
   "cell_type": "code",
   "execution_count": 41,
   "id": "e84f7c8f-cc1a-4e94-87a6-ed8f5f77e24e",
   "metadata": {},
   "outputs": [
    {
     "data": {
      "text/plain": [
       "[11, 12, 13, 14, 15, 16, 17]"
      ]
     },
     "execution_count": 41,
     "metadata": {},
     "output_type": "execute_result"
    }
   ],
   "source": [
    "list(map(lambda a : a+10, l))"
   ]
  },
  {
   "cell_type": "code",
   "execution_count": 42,
   "id": "4dca0daa-06de-4f6a-afdf-9c24155b5715",
   "metadata": {},
   "outputs": [],
   "source": [
    "l = [\"abhi\",\"mohan\",\"iNeuron\"]"
   ]
  },
  {
   "cell_type": "code",
   "execution_count": 43,
   "id": "0102429f-208b-4fc2-a8fe-14a6c6dfec06",
   "metadata": {},
   "outputs": [],
   "source": [
    "#convert into uppercase"
   ]
  },
  {
   "cell_type": "code",
   "execution_count": 44,
   "id": "ca01fedd-1f8d-4b92-b219-3fd5173834d9",
   "metadata": {},
   "outputs": [
    {
     "data": {
      "text/plain": [
       "['ABHI', 'MOHAN', 'INEURON']"
      ]
     },
     "execution_count": 44,
     "metadata": {},
     "output_type": "execute_result"
    }
   ],
   "source": [
    "l1=[]          # Method-1\n",
    "for i in l:\n",
    "    l1.append(i.upper())\n",
    "l1"
   ]
  },
  {
   "cell_type": "code",
   "execution_count": 46,
   "id": "c6185a71-1e75-4172-8fa3-598e7a0aaa37",
   "metadata": {},
   "outputs": [
    {
     "data": {
      "text/plain": [
       "['ABHI', 'MOHAN', 'INEURON']"
      ]
     },
     "execution_count": 46,
     "metadata": {},
     "output_type": "execute_result"
    }
   ],
   "source": [
    "list(map(lambda a: a.upper(), l))    # Method-2"
   ]
  },
  {
   "cell_type": "code",
   "execution_count": 49,
   "id": "87c1ec5e-584e-45e9-8dd3-b1b921709d1a",
   "metadata": {},
   "outputs": [
    {
     "data": {
      "text/plain": [
       "['abhi', 'mohan', 'iNeuron']"
      ]
     },
     "execution_count": 49,
     "metadata": {},
     "output_type": "execute_result"
    }
   ],
   "source": [
    "l"
   ]
  },
  {
   "cell_type": "code",
   "execution_count": null,
   "id": "86b4e9bf-ebc2-4d2b-b2d2-bd37d24cea41",
   "metadata": {},
   "outputs": [],
   "source": [
    "# find length of strings in list"
   ]
  },
  {
   "cell_type": "code",
   "execution_count": 48,
   "id": "f0d0b43d-4fbc-48c3-80d5-7c1ef9035b85",
   "metadata": {},
   "outputs": [
    {
     "data": {
      "text/plain": [
       "[4, 5, 7]"
      ]
     },
     "execution_count": 48,
     "metadata": {},
     "output_type": "execute_result"
    }
   ],
   "source": [
    "list(map(lambda a: len(a),l))      #Method-01"
   ]
  },
  {
   "cell_type": "code",
   "execution_count": 51,
   "id": "dfe77732-1f1e-4b12-ac51-932a6ad7c684",
   "metadata": {},
   "outputs": [
    {
     "data": {
      "text/plain": [
       "[4, 5, 7]"
      ]
     },
     "execution_count": 51,
     "metadata": {},
     "output_type": "execute_result"
    }
   ],
   "source": [
    "list(map(len,l))     #Method-2"
   ]
  },
  {
   "cell_type": "code",
   "execution_count": 52,
   "id": "6a8cd99f-81ef-4559-90b7-91b4e7a32dd7",
   "metadata": {},
   "outputs": [],
   "source": [
    "def test13(a):\n",
    "    return len(a)"
   ]
  },
  {
   "cell_type": "code",
   "execution_count": 54,
   "id": "471e7a3d-6f01-48cb-9d91-d7a5ba0ead3f",
   "metadata": {},
   "outputs": [
    {
     "data": {
      "text/plain": [
       "[4, 5, 7]"
      ]
     },
     "execution_count": 54,
     "metadata": {},
     "output_type": "execute_result"
    }
   ],
   "source": [
    "list(map(test13,l))        #Method-3"
   ]
  },
  {
   "cell_type": "code",
   "execution_count": 55,
   "id": "b09c5bec-8b4f-45be-9132-71e2734b04f9",
   "metadata": {},
   "outputs": [],
   "source": [
    "# Filter functiopn"
   ]
  },
  {
   "cell_type": "code",
   "execution_count": 29,
   "id": "73759d17-dd2b-4c0b-909a-90801d53df3b",
   "metadata": {},
   "outputs": [],
   "source": [
    "l2=[1,2,3,4,5,6,7,8]"
   ]
  },
  {
   "cell_type": "code",
   "execution_count": 58,
   "id": "c0c46742-bc64-47c1-bd62-10b01ec6184f",
   "metadata": {},
   "outputs": [],
   "source": [
    "# find all even nos"
   ]
  },
  {
   "cell_type": "code",
   "execution_count": 59,
   "id": "174eb2b6-930e-498d-9038-b37c3715e686",
   "metadata": {},
   "outputs": [],
   "source": [
    "lis=[]\n",
    "for i in l2:\n",
    "    if i%2 == 0:\n",
    "        lis.append(i)"
   ]
  },
  {
   "cell_type": "code",
   "execution_count": 60,
   "id": "eed5f65a-b8b7-4ca1-a5dd-225dc2cfb261",
   "metadata": {},
   "outputs": [
    {
     "data": {
      "text/plain": [
       "[2, 4, 6, 8]"
      ]
     },
     "execution_count": 60,
     "metadata": {},
     "output_type": "execute_result"
    }
   ],
   "source": [
    "lis"
   ]
  },
  {
   "cell_type": "code",
   "execution_count": 63,
   "id": "b1d3799e-34b1-4e26-9176-7797438ee4b1",
   "metadata": {},
   "outputs": [
    {
     "data": {
      "text/plain": [
       "[2, 4, 6, 8]"
      ]
     },
     "execution_count": 63,
     "metadata": {},
     "output_type": "execute_result"
    }
   ],
   "source": [
    "[i for i in l2 if i%2==0]      # by list comprehension"
   ]
  },
  {
   "cell_type": "code",
   "execution_count": 64,
   "id": "f3940895-b3fb-42b8-8b93-3b82aafc84e3",
   "metadata": {},
   "outputs": [
    {
     "data": {
      "text/plain": [
       "[1, 2, 3, 4, 5, 6, 7, 8]"
      ]
     },
     "execution_count": 64,
     "metadata": {},
     "output_type": "execute_result"
    }
   ],
   "source": [
    "l2"
   ]
  },
  {
   "cell_type": "code",
   "execution_count": 30,
   "id": "6fa25c45-c5c7-4423-930b-e07d5fec6093",
   "metadata": {},
   "outputs": [],
   "source": [
    "a = lambda a: a if a%2==0 else None"
   ]
  },
  {
   "cell_type": "code",
   "execution_count": 33,
   "id": "78d3bd3c-2a9e-439e-9fac-e980010f1f11",
   "metadata": {},
   "outputs": [
    {
     "data": {
      "text/plain": [
       "[None, 2, None, 4, None, 6, None]"
      ]
     },
     "execution_count": 33,
     "metadata": {},
     "output_type": "execute_result"
    }
   ],
   "source": [
    "list(map(a,l))               #map function will be map it with each element"
   ]
  },
  {
   "cell_type": "code",
   "execution_count": 34,
   "id": "dcffe8ce-1bbe-4c22-8fb6-d528e433e605",
   "metadata": {},
   "outputs": [
    {
     "data": {
      "text/plain": [
       "[2, 4, 6]"
      ]
     },
     "execution_count": 34,
     "metadata": {},
     "output_type": "execute_result"
    }
   ],
   "source": [
    "list(filter(a,l))      #filter function worsks only when conditin is true."
   ]
  },
  {
   "cell_type": "code",
   "execution_count": null,
   "id": "ff769c85-ec6e-4c13-9835-463e055cb534",
   "metadata": {},
   "outputs": [],
   "source": [
    "\n"
   ]
  },
  {
   "cell_type": "code",
   "execution_count": 66,
   "id": "8aebf06c-61c9-440b-812a-9576f6b855d1",
   "metadata": {},
   "outputs": [],
   "source": [
    "def test15(a):\n",
    "    if a%2==0:\n",
    "        return True\n",
    "    else:\n",
    "        return False\n",
    "        "
   ]
  },
  {
   "cell_type": "code",
   "execution_count": 67,
   "id": "f6d84c3b-ff57-4fed-be92-b5a69d28710b",
   "metadata": {},
   "outputs": [
    {
     "data": {
      "text/plain": [
       "True"
      ]
     },
     "execution_count": 67,
     "metadata": {},
     "output_type": "execute_result"
    }
   ],
   "source": [
    "test15(32)"
   ]
  },
  {
   "cell_type": "code",
   "execution_count": 69,
   "id": "dc59ee5d-7574-4f80-9e1d-0abc86b283fb",
   "metadata": {},
   "outputs": [
    {
     "data": {
      "text/plain": [
       "False"
      ]
     },
     "execution_count": 69,
     "metadata": {},
     "output_type": "execute_result"
    }
   ],
   "source": [
    "test15(25)"
   ]
  },
  {
   "cell_type": "code",
   "execution_count": 70,
   "id": "d902bffd-2737-4111-8366-055c6b80eb60",
   "metadata": {},
   "outputs": [
    {
     "data": {
      "text/plain": [
       "[2, 4, 6, 8]"
      ]
     },
     "execution_count": 70,
     "metadata": {},
     "output_type": "execute_result"
    }
   ],
   "source": [
    "list(filter(test15,l2))"
   ]
  },
  {
   "cell_type": "code",
   "execution_count": 35,
   "id": "c8c00aab-c0e6-4690-b024-c9e02a0dc738",
   "metadata": {},
   "outputs": [],
   "source": [
    "# Filter will give output only when it is returning True"
   ]
  },
  {
   "cell_type": "code",
   "execution_count": 36,
   "id": "8bacfc47-5553-4da4-ba2d-383278220476",
   "metadata": {},
   "outputs": [],
   "source": [
    "def test30(a):\n",
    "    if a%2==0:\n",
    "        return False\n",
    "    else:\n",
    "        return True\n",
    "        "
   ]
  },
  {
   "cell_type": "code",
   "execution_count": 37,
   "id": "fa6da2a4-5531-4fca-954a-d4682e7f8de4",
   "metadata": {},
   "outputs": [
    {
     "data": {
      "text/plain": [
       "False"
      ]
     },
     "execution_count": 37,
     "metadata": {},
     "output_type": "execute_result"
    }
   ],
   "source": [
    "test30(32)"
   ]
  },
  {
   "cell_type": "code",
   "execution_count": 40,
   "id": "35cef347-5cd9-4e11-9a83-47e999c52d3b",
   "metadata": {},
   "outputs": [
    {
     "data": {
      "text/plain": [
       "[1, 3, 5, 7]"
      ]
     },
     "execution_count": 40,
     "metadata": {},
     "output_type": "execute_result"
    }
   ],
   "source": [
    "list(filter(test30,l2))     #Here the output reverses as compared to earlier cases"
   ]
  },
  {
   "cell_type": "code",
   "execution_count": 72,
   "id": "d7c91fce-cc76-4015-afa5-d3ac80c82046",
   "metadata": {},
   "outputs": [
    {
     "data": {
      "text/plain": [
       "[1, 2, 3, 4, 5, 6, 7, 8]"
      ]
     },
     "execution_count": 72,
     "metadata": {},
     "output_type": "execute_result"
    }
   ],
   "source": [
    "l2"
   ]
  },
  {
   "cell_type": "code",
   "execution_count": 73,
   "id": "6b4fa326-67c4-4ceb-9c72-9435cba48faf",
   "metadata": {},
   "outputs": [
    {
     "data": {
      "text/plain": [
       "36"
      ]
     },
     "execution_count": 73,
     "metadata": {},
     "output_type": "execute_result"
    }
   ],
   "source": [
    "sum(l2)"
   ]
  },
  {
   "cell_type": "code",
   "execution_count": 47,
   "id": "4d470eb9-ffc2-4b85-81c3-bbdf5c0405f0",
   "metadata": {},
   "outputs": [],
   "source": [
    "from functools import reduce"
   ]
  },
  {
   "cell_type": "code",
   "execution_count": 48,
   "id": "d5bb41bb-acd9-440d-aec8-7d98544dea80",
   "metadata": {},
   "outputs": [
    {
     "data": {
      "text/plain": [
       "40320"
      ]
     },
     "execution_count": 48,
     "metadata": {},
     "output_type": "execute_result"
    }
   ],
   "source": [
    "reduce(lambda a,b: a*b, l2)"
   ]
  },
  {
   "cell_type": "code",
   "execution_count": 49,
   "id": "9f9558b0-4e69-425c-a711-633430523d81",
   "metadata": {},
   "outputs": [
    {
     "ename": "TypeError",
     "evalue": "<lambda>() missing 1 required positional argument: 'c'",
     "output_type": "error",
     "traceback": [
      "\u001b[0;31m---------------------------------------------------------------------------\u001b[0m",
      "\u001b[0;31mTypeError\u001b[0m                                 Traceback (most recent call last)",
      "Cell \u001b[0;32mIn [49], line 1\u001b[0m\n\u001b[0;32m----> 1\u001b[0m \u001b[43mreduce\u001b[49m\u001b[43m(\u001b[49m\u001b[38;5;28;43;01mlambda\u001b[39;49;00m\u001b[43m \u001b[49m\u001b[43ma\u001b[49m\u001b[43m,\u001b[49m\u001b[43mb\u001b[49m\u001b[43m,\u001b[49m\u001b[43mc\u001b[49m\u001b[43m:\u001b[49m\u001b[43m \u001b[49m\u001b[43ma\u001b[49m\u001b[38;5;241;43m*\u001b[39;49m\u001b[43mb\u001b[49m\u001b[38;5;241;43m*\u001b[39;49m\u001b[43mC\u001b[49m\u001b[43m,\u001b[49m\u001b[43m \u001b[49m\u001b[43ml2\u001b[49m\u001b[43m)\u001b[49m\n",
      "\u001b[0;31mTypeError\u001b[0m: <lambda>() missing 1 required positional argument: 'c'"
     ]
    }
   ],
   "source": [
    "reduce(lambda a,b,c: a*b*C, l2)"
   ]
  },
  {
   "cell_type": "code",
   "execution_count": 50,
   "id": "65614d7e-5467-41a9-b6bf-8362d0a1feb7",
   "metadata": {},
   "outputs": [],
   "source": [
    "l3=[1,2,3,4,5,6,7,8,9]"
   ]
  },
  {
   "cell_type": "code",
   "execution_count": 51,
   "id": "47e37f49-0c37-44c9-9155-b4b263593731",
   "metadata": {},
   "outputs": [
    {
     "data": {
      "text/plain": [
       "[1, 2, 3, 4, 5, 6, 7, 8, 9]"
      ]
     },
     "execution_count": 51,
     "metadata": {},
     "output_type": "execute_result"
    }
   ],
   "source": [
    "l3"
   ]
  },
  {
   "cell_type": "code",
   "execution_count": 52,
   "id": "17b4d141-d283-4a3a-92c9-9dfd40932419",
   "metadata": {},
   "outputs": [
    {
     "ename": "TypeError",
     "evalue": "<lambda>() missing 1 required positional argument: 'c'",
     "output_type": "error",
     "traceback": [
      "\u001b[0;31m---------------------------------------------------------------------------\u001b[0m",
      "\u001b[0;31mTypeError\u001b[0m                                 Traceback (most recent call last)",
      "Cell \u001b[0;32mIn [52], line 1\u001b[0m\n\u001b[0;32m----> 1\u001b[0m \u001b[43mreduce\u001b[49m\u001b[43m(\u001b[49m\u001b[38;5;28;43;01mlambda\u001b[39;49;00m\u001b[43m \u001b[49m\u001b[43ma\u001b[49m\u001b[43m,\u001b[49m\u001b[43mb\u001b[49m\u001b[43m,\u001b[49m\u001b[43mc\u001b[49m\u001b[43m:\u001b[49m\u001b[43m \u001b[49m\u001b[43ma\u001b[49m\u001b[38;5;241;43m*\u001b[39;49m\u001b[43mb\u001b[49m\u001b[38;5;241;43m*\u001b[39;49m\u001b[43mC\u001b[49m\u001b[43m,\u001b[49m\u001b[43m \u001b[49m\u001b[43ml3\u001b[49m\u001b[43m)\u001b[49m\n",
      "\u001b[0;31mTypeError\u001b[0m: <lambda>() missing 1 required positional argument: 'c'"
     ]
    }
   ],
   "source": [
    "reduce(lambda a,b,c: a*b*C, l3)"
   ]
  },
  {
   "cell_type": "code",
   "execution_count": 53,
   "id": "e0a44e00-5341-4801-adc5-6a0443efb8f9",
   "metadata": {},
   "outputs": [
    {
     "data": {
      "text/plain": [
       "362880"
      ]
     },
     "execution_count": 53,
     "metadata": {},
     "output_type": "execute_result"
    }
   ],
   "source": [
    "reduce(lambda a,b: a*b ,l3)"
   ]
  },
  {
   "cell_type": "code",
   "execution_count": 54,
   "id": "94275fba-6160-4edf-b3b7-11eb3bdd4012",
   "metadata": {},
   "outputs": [
    {
     "data": {
      "text/plain": [
       "3"
      ]
     },
     "execution_count": 54,
     "metadata": {},
     "output_type": "execute_result"
    }
   ],
   "source": [
    "l4=[3]\n",
    "reduce(lambda a,b: a*b, l4)    #This is the only exception."
   ]
  },
  {
   "cell_type": "code",
   "execution_count": 55,
   "id": "c9f8f7e2-24d6-4a22-a41f-978e635d9cc4",
   "metadata": {},
   "outputs": [],
   "source": [
    "# It is recemmended to use 2 variable only in reduce function"
   ]
  },
  {
   "cell_type": "code",
   "execution_count": 56,
   "id": "3167df17-6738-461b-a1f4-5f45efb1b02b",
   "metadata": {},
   "outputs": [],
   "source": [
    "# How to add docstring and hint to your function\n",
    "\n",
    "def test16(a, b):\n",
    "    \"\"\"\n",
    "    this is my function to get hint and docstring\n",
    "    \"\"\"\n",
    "    return a+b\n"
   ]
  },
  {
   "cell_type": "code",
   "execution_count": 60,
   "id": "c274a94b-9a76-4dac-9f4a-cf74835fd1ce",
   "metadata": {},
   "outputs": [],
   "source": [
    "#test16()    See the signature and docsttring"
   ]
  },
  {
   "cell_type": "code",
   "execution_count": null,
   "id": "81f11658-752a-449e-b864-902ac27c6249",
   "metadata": {},
   "outputs": [],
   "source": []
  },
  {
   "cell_type": "code",
   "execution_count": 57,
   "id": "ee821799-ffdf-41cf-9d0f-28330168aacd",
   "metadata": {},
   "outputs": [],
   "source": [
    "def test17() -> int:\n",
    "    \"\"\"\n",
    "    Hello to my function\n",
    "    \"\"\"\n",
    "    return test17"
   ]
  },
  {
   "cell_type": "code",
   "execution_count": 61,
   "id": "5c27e5bc-5beb-42b7-879f-932f71a7fb59",
   "metadata": {},
   "outputs": [],
   "source": [
    "#test17()    See the signature and docsttring"
   ]
  },
  {
   "cell_type": "code",
   "execution_count": 65,
   "id": "c2ef79e2-672a-48b1-8c07-67a58a0f9c08",
   "metadata": {},
   "outputs": [],
   "source": [
    "def test18(a: int, b: \"function\") -> int:\n",
    "    \"\"\"\n",
    "    This is my function\n",
    "    \"\"\"\n",
    "    return a+b"
   ]
  },
  {
   "cell_type": "code",
   "execution_count": 66,
   "id": "d415e2ca-84fc-4acc-ab12-0d40d22d3830",
   "metadata": {},
   "outputs": [],
   "source": [
    "#test18()     See the signature and docsttring"
   ]
  },
  {
   "cell_type": "markdown",
   "id": "878470b6-30ee-4cd6-9c58-6c28a07ed460",
   "metadata": {},
   "source": [
    "Here, we are only indicating that in signature,provide interger for a and function for b.\n",
    "Also, the result of the test18 function will be integer. But, it is just a indication."
   ]
  },
  {
   "cell_type": "code",
   "execution_count": 67,
   "id": "f75db284-899a-4ce2-b39e-094cab5ad261",
   "metadata": {},
   "outputs": [
    {
     "data": {
      "text/plain": [
       "'abhimohan'"
      ]
     },
     "execution_count": 67,
     "metadata": {},
     "output_type": "execute_result"
    }
   ],
   "source": [
    "test18(\"abhi\",\"mohan\")"
   ]
  },
  {
   "cell_type": "code",
   "execution_count": 68,
   "id": "f1d2a2de-c5fe-4363-a3e9-51b47e520238",
   "metadata": {},
   "outputs": [],
   "source": [
    "# It will still work."
   ]
  },
  {
   "cell_type": "code",
   "execution_count": 69,
   "id": "5c9888d5-ed4a-49b7-8d2b-9b47f2574326",
   "metadata": {},
   "outputs": [
    {
     "data": {
      "text/plain": [
       "35"
      ]
     },
     "execution_count": 69,
     "metadata": {},
     "output_type": "execute_result"
    }
   ],
   "source": [
    "test18(15,20)"
   ]
  },
  {
   "cell_type": "code",
   "execution_count": null,
   "id": "9ddbfab4-5a6d-42e0-907e-ae7efb233149",
   "metadata": {},
   "outputs": [],
   "source": []
  }
 ],
 "metadata": {
  "kernelspec": {
   "display_name": "Python 3 (ipykernel)",
   "language": "python",
   "name": "python3"
  },
  "language_info": {
   "codemirror_mode": {
    "name": "ipython",
    "version": 3
   },
   "file_extension": ".py",
   "mimetype": "text/x-python",
   "name": "python",
   "nbconvert_exporter": "python",
   "pygments_lexer": "ipython3",
   "version": "3.10.6"
  }
 },
 "nbformat": 4,
 "nbformat_minor": 5
}
